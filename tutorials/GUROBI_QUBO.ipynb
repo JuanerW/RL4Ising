{
 "cells": [
  {
   "cell_type": "markdown",
   "id": "879dd071",
   "metadata": {},
   "source": [
    "# Gurobi QUBO for Ising Model\n",
    "\n"
   ]
  },
  {
   "cell_type": "markdown",
   "id": "21ac6078",
   "metadata": {},
   "source": [
    "## Overview\n",
    "\n",
    "This notebook contains code and analysis to find the ground state of Ising models using the Gurobi Solver. Specifically, we reduce the ground state/Maxcut problem into a Quadratic Unconstrainned Binary Optimzation (QUBO) problem. We seek to showcase the strength and versatility of mixed-integer solvers such as, Gurobi when applied to Ising models.\n",
    "\n",
    "This notebook is applicable to any Ising model instances found in our comprehensive dataset. For our purposes we will utilize the synthetic Ising model instances from the BA distribution. "
   ]
  },
  {
   "cell_type": "markdown",
   "id": "93307a4e",
   "metadata": {},
   "source": [
    "## Prerequisites\n",
    "\n",
    "Installing Gurobi\n",
    "\n",
    "1. Install via pip\n",
    "```\n",
    "python -m pip install gurobipy\n",
    "```\n",
    "2. Install via conda\n",
    "```\n",
    "conda install -c gurobi gurobi\n",
    "```"
   ]
  },
  {
   "cell_type": "code",
   "execution_count": null,
   "id": "8cf9b00e",
   "metadata": {},
   "outputs": [],
   "source": [
    "import networkx as nx\n",
    "import numpy as np\n",
    "from typing import List, Union\n",
    "import gurobipy as gp"
   ]
  },
  {
   "cell_type": "code",
   "execution_count": null,
   "id": "47b05c1c",
   "metadata": {},
   "outputs": [],
   "source": [
    "def read_nxgraph()"
   ]
  },
  {
   "cell_type": "code",
   "execution_count": null,
   "id": "0e661069",
   "metadata": {},
   "outputs": [],
   "source": [
    "def gurobi_maxcut(graph):\n",
    "\n",
    "    # Create QUBO matrix\n",
    "    nodes = len(list(graph.nodes))\n",
    "    node_index = { value: index for (index, value) in enumerate(list(graph.nodes)) }\n",
    "\n",
    "    matrix = np.zeros((nodes, nodes))\n",
    "    for i, j, w in graph.edges(data=True):\n",
    "        edge = float(w['weight'])\n",
    "        m_i = node_index[i]\n",
    "        m_j = node_index[j]\n",
    "\n",
    "        matrix[m_i, m_j] = edge\n",
    "        matrix[m_j, m_i] = edge\n",
    "\n",
    "    # Construct gurobi model\n",
    "    model = gp.Model(\"maxcut_qubo\")\n",
    "\n",
    "    # Craete variable for each vertex\n",
    "    x = model.addVars(nodes, vtype=gp.GRB.Binary)\n",
    "\n",
    "    # Objective function\n",
    "    objective = gp.quicksum(matrix[i, j] * ( -2 * x[i] * x[j] + x[i] + x[j] ) for i in range(nodes) for j in range(i + 1, nodes))\n",
    "    model.setObjective(objective, gp.GRB.MAXIMIZE)\n",
    "    \n",
    "    # Solve\n",
    "    model.optimize()\n",
    "    if model.status == gp.GRB.OPTIMAL:\n",
    "        solution = {vertex: x[vertex].x for vertex in range(n)}\n",
    "        return solution\n",
    "    else:\n",
    "        print(\"No optimal solution found.\")\n",
    "        return None"
   ]
  },
  {
   "cell_type": "code",
   "execution_count": null,
   "id": "93a5c64e",
   "metadata": {},
   "outputs": [],
   "source": [
    "# Extract graph data from data files\n",
    "graph = read_nxgraph('../../data/syn_BA/BA_100_ID0.txt') \n",
    "\n",
    "# Solve for graph\n",
    "gurobi_maxcut(graph)"
   ]
  }
 ],
 "metadata": {
  "language_info": {
   "name": "python"
  }
 },
 "nbformat": 4,
 "nbformat_minor": 5
}
